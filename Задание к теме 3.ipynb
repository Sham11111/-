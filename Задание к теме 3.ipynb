{
 "cells": [
  {
   "cell_type": "code",
   "execution_count": 1,
   "id": "1b2b3910",
   "metadata": {},
   "outputs": [
    {
     "name": "stdout",
     "output_type": "stream",
     "text": [
      "{98, 35, 15, 213, 54, 119}\n"
     ]
    }
   ],
   "source": [
    "ids = {\n",
    "    'user1': [213, 213, 213, 15, 213], \n",
    "    'user2': [54, 54, 119, 119, 119], \n",
    "    'user3': [213, 98, 98, 35]\n",
    "}\n",
    "ids_value = []\n",
    "for i in list(ids.values()):\n",
    "    ids_value.extend(i)\n",
    "print(set(ids_value))"
   ]
  },
  {
   "cell_type": "code",
   "execution_count": 2,
   "id": "5f1219a4",
   "metadata": {},
   "outputs": [
    {
     "name": "stdout",
     "output_type": "stream",
     "text": [
      "Поисковых запросов, содержащих 2 слов(а): 42.86%\n",
      "Поисковых запросов, содержащих 3 слов(а): 57.14%\n"
     ]
    }
   ],
   "source": [
    "queries = [\n",
    "    'смотреть сериалы онлайн',\n",
    "    'новости спорта',\n",
    "    'афиша кино',\n",
    "    'курс доллара',\n",
    "    'сериалы этим летом',\n",
    "    'курс по питону',\n",
    "    'сериалы про спорт',\n",
    "]\n",
    "# считаем количество запросов из 2/3 слов, записываем в соответствующие переменные\n",
    "two_words = 0\n",
    "three_words = 0\n",
    "for i in queries:\n",
    "    if len(i.split()) == 2:\n",
    "        two_words += 1\n",
    "    else:\n",
    "        three_words += 1\n",
    "        \n",
    "# считаем процентное соотношение запросов из 2/3 слов        \n",
    "two_words_percentages = round((100 * two_words / len(queries)), 2)\n",
    "three_words_percentages = round((100 * three_words / len(queries)), 2)\n",
    "                \n",
    "print(f'Поисковых запросов, содержащих 2 слов(а): {two_words_percentages}%')\n",
    "print(f'Поисковых запросов, содержащих 3 слов(а): {three_words_percentages}%')\n",
    "\n"
   ]
  },
  {
   "cell_type": "code",
   "execution_count": 3,
   "id": "a7465766",
   "metadata": {},
   "outputs": [
    {
     "name": "stdout",
     "output_type": "stream",
     "text": [
      "{'vk': {'revenue': 103, 'cost': 98, 'ROI': 5.1}, 'yandex': {'revenue': 179, 'cost': 153, 'ROI': 16.99}, 'facebook': {'revenue': 103, 'cost': 110, 'ROI': -6.36}, 'adwords': {'revenue': 35, 'cost': 34, 'ROI': 2.94}, 'twitter': {'revenue': 11, 'cost': 24, 'ROI': -54.17}}\n"
     ]
    }
   ],
   "source": [
    "results = {\n",
    "    'vk': {'revenue': 103, 'cost': 98},\n",
    "    'yandex': {'revenue': 179, 'cost': 153},\n",
    "    'facebook': {'revenue': 103, 'cost': 110},\n",
    "    'adwords': {'revenue': 35, 'cost': 34},\n",
    "    'twitter': {'revenue': 11, 'cost': 24},\n",
    "}\n",
    "\n",
    "for i in results.values():\n",
    "    ROI = round(((i['revenue'] / i['cost'] - 1) * 100), 2)\n",
    "    i['ROI'] = ROI\n",
    "    \n",
    "print(results)"
   ]
  },
  {
   "cell_type": "code",
   "execution_count": 4,
   "id": "73c1eff4",
   "metadata": {},
   "outputs": [
    {
     "name": "stdout",
     "output_type": "stream",
     "text": [
      "Максимальный объем продаж на рекламном канале: vk\n"
     ]
    }
   ],
   "source": [
    "stats = {\n",
    "    'facebook': 55, \n",
    "    'yandex': 115, \n",
    "    'vk': 120, \n",
    "    'google': 99, \n",
    "    'email': 42, \n",
    "    'ok': 98\n",
    "}\n",
    "# определяем максималное значение объема продаж\n",
    "stats_value_max = max(list(stats.values()))\n",
    "# выводим на экран ключ, соответствующий найденному максимальному значению\n",
    "for key, value in stats.items():\n",
    "    if value == stats_value_max:\n",
    "        print(f'Максимальный объем продаж на рекламном канале: {key}')"
   ]
  },
  {
   "cell_type": "code",
   "execution_count": 5,
   "id": "c023c2a0",
   "metadata": {},
   "outputs": [
    {
     "name": "stdout",
     "output_type": "stream",
     "text": [
      "{'2018-01-01': {'yandex': {'cpc': 100}}}\n"
     ]
    }
   ],
   "source": [
    "my_list = ['2018-01-01', 'yandex', 'cpc', 100]\n",
    "lenght = len(my_list) - 1\n",
    "\n",
    "my_dict = {}\n",
    "\n",
    "my_dict[my_list[lenght - 1]] = my_list[lenght]\n",
    "\n",
    "lenght = lenght - 1\n",
    "\n",
    "while lenght > 0:\n",
    "    lenght = lenght - 1\n",
    "    my_dict2 = my_dict.copy()\n",
    "    my_dict.clear()\n",
    "    my_dict[my_list[lenght]] = my_dict2\n",
    "    \n",
    "print(my_dict)"
   ]
  },
  {
   "cell_type": "code",
   "execution_count": null,
   "id": "c3b821ac",
   "metadata": {},
   "outputs": [],
   "source": []
  },
  {
   "cell_type": "code",
   "execution_count": null,
   "id": "ef6512a7",
   "metadata": {},
   "outputs": [],
   "source": []
  }
 ],
 "metadata": {
  "kernelspec": {
   "display_name": "Python 3 (ipykernel)",
   "language": "python",
   "name": "python3"
  },
  "language_info": {
   "codemirror_mode": {
    "name": "ipython",
    "version": 3
   },
   "file_extension": ".py",
   "mimetype": "text/x-python",
   "name": "python",
   "nbconvert_exporter": "python",
   "pygments_lexer": "ipython3",
   "version": "3.9.12"
  }
 },
 "nbformat": 4,
 "nbformat_minor": 5
}
