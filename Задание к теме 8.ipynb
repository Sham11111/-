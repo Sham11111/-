{
 "cells": [
  {
   "cell_type": "code",
   "execution_count": 14,
   "id": "890a8fec",
   "metadata": {},
   "outputs": [
    {
     "name": "stdout",
     "output_type": "stream",
     "text": [
      "Введите номер АБ22ВВ193\n",
      "Результат: Номер АБ22ВВ193 не валиден\n"
     ]
    }
   ],
   "source": [
    "import re\n",
    "\n",
    "regexp = re.compile(r'^[АВЕКМНОРСТУХ]\\d{3}[АВЕКМНОРСТУХ]{2}(?P<reg>\\d{2,3})$')\n",
    "car_id = input('Введите номер ')\n",
    "\n",
    "match = regexp.match(car_id)\n",
    "if match:\n",
    "    print(f\"Результат: Номер {car_id} валиден. Регион: {match['reg']}\")\n",
    "else:\n",
    "    print(f\"Результат: Номер {car_id} не валиден\")"
   ]
  }
 ],
 "metadata": {
  "kernelspec": {
   "display_name": "Python 3 (ipykernel)",
   "language": "python",
   "name": "python3"
  },
  "language_info": {
   "codemirror_mode": {
    "name": "ipython",
    "version": 3
   },
   "file_extension": ".py",
   "mimetype": "text/x-python",
   "name": "python",
   "nbconvert_exporter": "python",
   "pygments_lexer": "ipython3",
   "version": "3.9.12"
  }
 },
 "nbformat": 4,
 "nbformat_minor": 5
}
