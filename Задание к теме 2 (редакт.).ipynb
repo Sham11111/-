{
 "cells": [
  {
   "cell_type": "code",
   "execution_count": 55,
   "id": "2c330a52",
   "metadata": {},
   "outputs": [
    {
     "name": "stdout",
     "output_type": "stream",
     "text": [
      "Enter the word testing\n",
      "t\n",
      "End of the program\n"
     ]
    }
   ],
   "source": [
    "word = str(input('Enter the word '))\n",
    "if len(word) % 2 == 0:\n",
    "    print((word[len(word) // 2 - 1]) + word[len(word) // 2])\n",
    "else:\n",
    "    print(word[len(word) // 2])\n",
    "print('End of the program')\n",
    "    \n"
   ]
  },
  {
   "cell_type": "code",
   "execution_count": 108,
   "id": "f532205a",
   "metadata": {},
   "outputs": [
    {
     "name": "stdout",
     "output_type": "stream",
     "text": [
      "Результат:\n",
      "Идеальные пары:\n",
      "('Alex', 'Emma')\n",
      "('Arthur', 'Kate')\n",
      "('John', 'Kira')\n",
      "('Peter', 'Liza')\n",
      "('Richard', 'Trisha')\n",
      "Конец программы\n"
     ]
    }
   ],
   "source": [
    "boys = ['Peter', 'Alex', 'John', 'Arthur', 'Richard']\n",
    "girls = ['Kate', 'Liza', 'Kira', 'Emma', 'Trisha']\n",
    "if len(boys) == len(girls):\n",
    "    couple = zip(sorted(boys), sorted(girls))\n",
    "    print('Результат:')\n",
    "    print('Идеальные пары:')\n",
    "    good_couples = list(couple)\n",
    "    print(good_couples[0])\n",
    "    print(good_couples[1])\n",
    "    print(good_couples[2])\n",
    "    print(good_couples[3])\n",
    "    print(good_couples[4])\n",
    "else:\n",
    "    print('Результат: Внимание, кто-то может остаться без пары!')\n",
    "print('Конец программы')\n"
   ]
  },
  {
   "cell_type": "code",
   "execution_count": 11,
   "id": "52ddd0e9",
   "metadata": {},
   "outputs": [
    {
     "name": "stdout",
     "output_type": "stream",
     "text": [
      "Результат:\n",
      "Идеальные пары:\n",
      "Alex и Emma\n",
      "Arthur и Kate\n",
      "John и Kira\n",
      "Peter и Liza\n",
      "Richard и Trisha\n",
      "Конец программы\n"
     ]
    }
   ],
   "source": [
    "boys = sorted(['Peter', 'Alex', 'John', 'Arthur', 'Richard'])\n",
    "girls = sorted(['Kate', 'Liza', 'Kira', 'Emma', 'Trisha'])\n",
    "if len(boys) == len(girls):\n",
    "    print('Результат:')\n",
    "    print('Идеальные пары:')\n",
    "    for i in range(len(boys)):\n",
    "        print(boys[i],'и', girls[i])    \n",
    "else:\n",
    "    print('Результат: Внимание, кто-то может остаться без пары!')\n",
    "print('Конец программы')\n"
   ]
  }
 ],
 "metadata": {
  "kernelspec": {
   "display_name": "Python 3 (ipykernel)",
   "language": "python",
   "name": "python3"
  },
  "language_info": {
   "codemirror_mode": {
    "name": "ipython",
    "version": 3
   },
   "file_extension": ".py",
   "mimetype": "text/x-python",
   "name": "python",
   "nbconvert_exporter": "python",
   "pygments_lexer": "ipython3",
   "version": "3.9.12"
  }
 },
 "nbformat": 4,
 "nbformat_minor": 5
}
