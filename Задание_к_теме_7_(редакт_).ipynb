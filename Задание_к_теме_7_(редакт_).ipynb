{
  "nbformat": 4,
  "nbformat_minor": 0,
  "metadata": {
    "colab": {
      "provenance": [],
      "collapsed_sections": []
    },
    "kernelspec": {
      "name": "python3",
      "display_name": "Python 3"
    },
    "language_info": {
      "name": "python"
    }
  },
  "cells": [
    {
      "cell_type": "code",
      "execution_count": null,
      "metadata": {
        "colab": {
          "base_uri": "https://localhost:8080/"
        },
        "id": "lGW9lL0pD7K6",
        "outputId": "dc3e2913-48c2-497e-9cde-a9a35d5d0131"
      },
      "outputs": [
        {
          "output_type": "stream",
          "name": "stdout",
          "text": [
            "Китайских юаней\n"
          ]
        }
      ],
      "source": [
        "import requests\n",
        "\n",
        "def max_course():\n",
        "    \"\"\"\n",
        "    Отображает  наименование валюты с максимальным курсом\n",
        "    \"\"\" \n",
        "    \n",
        "    data = requests.get('https://www.cbr-xml-daily.ru/daily_json.js').json()\n",
        "    valutes = data['Valute']\n",
        "    dict_courses = {}\n",
        "    \n",
        "    for i in valutes.values():\n",
        "        dict_courses[i['Value']] = i['Name']\n",
        "    \n",
        "    courses = []\n",
        "    for course in dict_courses.keys():\n",
        "        courses.append(course)\n",
        "    \n",
        "    print(dict_courses[max(courses)])\n",
        "\n",
        "max_course()"
      ]
    },
    {
      "cell_type": "code",
      "source": [
        "import requests\n",
        "\n",
        "class Rate:\n",
        "    def __init__(self, format_ = 'value', diff = False):\n",
        "        self.format = format_\n",
        "        self.diff = diff\n",
        "\n",
        "\n",
        "    def exchange_rates(self):\n",
        "        self.r = requests.get('https://www.cbr-xml-daily.ru/daily_json.js')\n",
        "        return self.r.json()['Valute']\n",
        "\n",
        "    def make_format(self, currency):\n",
        "        response = self.exchange_rates()\n",
        "\n",
        "        if currency in response:\n",
        "            if self.format == 'full':\n",
        "                return response[currency]\n",
        "\n",
        "            if self.format == 'value':\n",
        "                if not self.diff:\n",
        "                    return response[currency]['Value']\n",
        "                else:\n",
        "                    return response[currency]['Value'] - response[currency]['Previous']\n",
        "\n",
        "            if self.format == 'currency_name':\n",
        "                return response[currency]['Name']\n",
        "\n",
        "        return 'Error'\n",
        "\n",
        "    def eur(self):\n",
        "        \"\"\"Возвращает курс евро на сегодня в формате self.format если diff=False, иначе - изменение\"\"\"\n",
        "        return self.make_format('EUR')\n",
        "\n",
        "    def usd(self):\n",
        "        \"\"\"Возвращает курс доллара на сегодня в формате self.format, иначе - изменение\"\"\"\n",
        "        return self.make_format('USD')\n",
        "\n",
        "print (Rate(format_='currency_name').make_format('USD'))\n",
        "print (\"Изменение по сравнению c прошлым значением {:.3f}\".format(Rate(diff=True).usd()))"
      ],
      "metadata": {
        "colab": {
          "base_uri": "https://localhost:8080/"
        },
        "id": "5O7fEH_7EP6w",
        "outputId": "b32fdb82-0000-43d3-a3d0-754c40ed6b2f"
      },
      "execution_count": null,
      "outputs": [
        {
          "output_type": "stream",
          "name": "stdout",
          "text": [
            "Доллар США\n",
            "Изменение по сравнению c прошлым значением -1.026\n"
          ]
        }
      ]
    },
    {
      "cell_type": "code",
      "source": [
        "class Employee:\n",
        "    def __init__(self, name, seniority, awards):\n",
        "        self.name = name\n",
        "        self.seniority = seniority\n",
        "        self.awards= awards\n",
        "        \n",
        "        self.grade = 1\n",
        "    \n",
        "    def grade_up(self):\n",
        "        self.grade += 1\n",
        "    \n",
        "    def publish_grade(self):\n",
        "        print(self.name, self.grade)\n",
        "class Developer(Employee):\n",
        "    def __init__(self, name, seniority, awards=0):\n",
        "        super().__init__(name, seniority, awards=0)\n",
        "    \n",
        "    def check_if_it_is_time_for_upgrade(self):\n",
        "        self.seniority += 1\n",
        "    \n",
        "        if self.seniority % 5 == 0:\n",
        "            self.grade_up()\n",
        "        \n",
        "        return self.publish_grade()\n",
        "\n",
        "class Designer(Employee):\n",
        "    def __init__(self, name, seniority, awards):\n",
        "        super().__init__(name, seniority, awards)\n",
        "        \n",
        "    def check_if_it_is_time_for_upgrade(self):\n",
        "        if self.seniority==0: \n",
        "            self.seniority=1+self.awards*2\n",
        "        else:\n",
        "            self.seniority+=1\n",
        "        if self.seniority % 7==0:\n",
        "                self.grade_up()\n",
        "        \n",
        "        return self.publish_grade()\n",
        "    \n",
        "Vika = Designer('Вика', seniority=0, awards=2)\n",
        "\n",
        "for i in range(20):\n",
        "    Vika.check_if_it_is_time_for_upgrade()"
      ],
      "metadata": {
        "colab": {
          "base_uri": "https://localhost:8080/"
        },
        "id": "yWqASrIBFmvu",
        "outputId": "db69354b-cedf-417b-a4d0-8e5d3ebafbaa"
      },
      "execution_count": null,
      "outputs": [
        {
          "output_type": "stream",
          "name": "stdout",
          "text": [
            "Вика 1\n",
            "Вика 1\n",
            "Вика 2\n",
            "Вика 2\n",
            "Вика 2\n",
            "Вика 2\n",
            "Вика 2\n",
            "Вика 2\n",
            "Вика 2\n",
            "Вика 3\n",
            "Вика 3\n",
            "Вика 3\n",
            "Вика 3\n",
            "Вика 3\n",
            "Вика 3\n",
            "Вика 3\n",
            "Вика 4\n",
            "Вика 4\n",
            "Вика 4\n",
            "Вика 4\n"
          ]
        }
      ]
    }
  ]
}