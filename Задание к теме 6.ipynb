{
 "cells": [
  {
   "cell_type": "code",
   "execution_count": 16,
   "id": "75552a9f",
   "metadata": {},
   "outputs": [],
   "source": [
    "from datetime import datetime"
   ]
  },
  {
   "cell_type": "code",
   "execution_count": 11,
   "id": "ec7dcc89",
   "metadata": {},
   "outputs": [
    {
     "data": {
      "text/plain": [
       "datetime.datetime(2002, 10, 2, 0, 0)"
      ]
     },
     "execution_count": 11,
     "metadata": {},
     "output_type": "execute_result"
    }
   ],
   "source": [
    "date_The_Moscow_Times = 'Wednesday, October 2, 2002'\n",
    "The_Moscow_Times_datetime = datetime.strptime(date_The_Moscow_Times, '%A, %B %d, %Y')\n",
    "\n",
    "The_Moscow_Times_datetime"
   ]
  },
  {
   "cell_type": "code",
   "execution_count": 12,
   "id": "84ffead7",
   "metadata": {},
   "outputs": [
    {
     "data": {
      "text/plain": [
       "datetime.datetime(2013, 10, 11, 0, 0)"
      ]
     },
     "execution_count": 12,
     "metadata": {},
     "output_type": "execute_result"
    }
   ],
   "source": [
    "date_The_Guardian = 'Friday, 11.10.13'\n",
    "The_Guardian_datetime = datetime.strptime(date_The_Guardian, '%A, %d.%m.%y')\n",
    "\n",
    "The_Guardian_datetime\n"
   ]
  },
  {
   "cell_type": "code",
   "execution_count": 15,
   "id": "c8e793a4",
   "metadata": {},
   "outputs": [
    {
     "data": {
      "text/plain": [
       "datetime.datetime(1977, 8, 18, 0, 0)"
      ]
     },
     "execution_count": 15,
     "metadata": {},
     "output_type": "execute_result"
    }
   ],
   "source": [
    "date_Daily_News = 'Thursday, 18 August 1977'\n",
    "Daily_News_datetime = datetime.strptime(date_Daily_News, '%A, %d %B %Y')\n",
    "\n",
    "Daily_News_datetime"
   ]
  }
 ],
 "metadata": {
  "kernelspec": {
   "display_name": "Python 3 (ipykernel)",
   "language": "python",
   "name": "python3"
  },
  "language_info": {
   "codemirror_mode": {
    "name": "ipython",
    "version": 3
   },
   "file_extension": ".py",
   "mimetype": "text/x-python",
   "name": "python",
   "nbconvert_exporter": "python",
   "pygments_lexer": "ipython3",
   "version": "3.9.12"
  }
 },
 "nbformat": 4,
 "nbformat_minor": 5
}
