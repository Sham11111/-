{
  "cells": [
    {
      "cell_type": "code",
      "execution_count": 1,
      "id": "595412ed",
      "metadata": {
        "id": "595412ed",
        "outputId": "e7cfbd6f-3c72-492e-f014-8f061762d9ee",
        "colab": {
          "base_uri": "https://localhost:8080/"
        }
      },
      "outputs": [
        {
          "output_type": "stream",
          "name": "stdout",
          "text": [
            "{98, 35, 15, 213, 54, 119}\n"
          ]
        }
      ],
      "source": [
        "ids = {\n",
        "    'user1': [213, 213, 213, 15, 213], \n",
        "    'user2': [54, 54, 119, 119, 119], \n",
        "    'user3': [213, 98, 98, 35]\n",
        "}\n",
        "ids_value = []\n",
        "for i in list(ids.values()):\n",
        "    ids_value.extend(i)\n",
        "print(set(ids_value))"
      ]
    },
    {
      "cell_type": "code",
      "execution_count": null,
      "id": "82dc6d2a",
      "metadata": {
        "id": "82dc6d2a",
        "outputId": "09927954-0168-40bf-e745-6c0086c68711"
      },
      "outputs": [
        {
          "name": "stdout",
          "output_type": "stream",
          "text": [
            "Поисковых запросов, содержащих 2 слов(а): 42.86%\n",
            "Поисковых запросов, содержащих 3 слов(а): 57.14%\n"
          ]
        }
      ],
      "source": [
        "queries = [\n",
        "    'смотреть сериалы онлайн',\n",
        "    'новости спорта',\n",
        "    'афиша кино',\n",
        "    'курс доллара',\n",
        "    'сериалы этим летом',\n",
        "    'курс по питону',\n",
        "    'сериалы про спорт',\n",
        "]\n",
        "two_words = 0\n",
        "three_words = 0\n",
        "for words in queries:\n",
        "    if len(words.split()) == 2:\n",
        "        two_words += 1\n",
        "    else:\n",
        "        three_words += 1\n",
        "\n",
        "two_words_percent = round(two_words / len(queries) * 100, 2)\n",
        "three_words_percent = round(three_words / len(queries) * 100, 2)\n",
        "print(f'Поисковых запросов, содержащих 2 слов(а): {two_words_percent}%')\n",
        "print(f'Поисковых запросов, содержащих 3 слов(а): {three_words_percent}%')   "
      ]
    },
    {
      "cell_type": "code",
      "execution_count": null,
      "id": "b805b13d",
      "metadata": {
        "id": "b805b13d",
        "outputId": "3c286903-15c1-4892-a455-835bba2bd862"
      },
      "outputs": [
        {
          "data": {
            "text/plain": [
              "{'adwords': {'ROI': 2.94, 'cost': 34, 'revenue': 35},\n",
              " 'facebook': {'ROI': -6.36, 'cost': 110, 'revenue': 103},\n",
              " 'twitter': {'ROI': -54.17, 'cost': 24, 'revenue': 11},\n",
              " 'vk': {'ROI': 5.1, 'cost': 98, 'revenue': 103},\n",
              " 'yandex': {'ROI': 16.99, 'cost': 153, 'revenue': 179}}"
            ]
          },
          "execution_count": 235,
          "metadata": {},
          "output_type": "execute_result"
        }
      ],
      "source": [
        "results = {\n",
        "    'vk': {'revenue': 103, 'cost': 98},\n",
        "    'yandex': {'revenue': 179, 'cost': 153},\n",
        "    'facebook': {'revenue': 103, 'cost': 110},\n",
        "    'adwords': {'revenue': 35, 'cost': 34},\n",
        "    'twitter': {'revenue': 11, 'cost': 24},\n",
        "}\n",
        "add_results = {}\n",
        "for add, values in results.items():\n",
        "    add_results.update({add:{'ROI':round((values['revenue'] / values['cost'] - 1) * 100,2), 'cost': values['cost'], 'revenue': values['revenue']}})\n",
        "\n",
        "sorted_results = sorted(add_results.items())\n",
        "dict(sorted_results)\n"
      ]
    },
    {
      "cell_type": "code",
      "execution_count": null,
      "id": "8e3b7934",
      "metadata": {
        "id": "8e3b7934",
        "outputId": "357abd76-a50c-4162-bd92-4fa04103d7eb"
      },
      "outputs": [
        {
          "name": "stdout",
          "output_type": "stream",
          "text": [
            "Результат: Максимальный объем продаж на рекламном канале: vk\n"
          ]
        }
      ],
      "source": [
        "stats = {'facebook': 55, 'yandex': 115, 'vk': 120, 'google': 99, 'email': 42, 'ok': 98}\n",
        "max_sells = max(stats.values())\n",
        "for x in stats.items():\n",
        "    if x[1] == max_sells:\n",
        "        print(f'Результат: Максимальный объем продаж на рекламном канале: {x[0]}')  "
      ]
    },
    {
      "cell_type": "code",
      "execution_count": null,
      "id": "32ac7a8b",
      "metadata": {
        "id": "32ac7a8b",
        "outputId": "eb568798-fdc0-4c08-b936-9b71a104f78a"
      },
      "outputs": [
        {
          "name": "stdout",
          "output_type": "stream",
          "text": [
            "{'a': {'b': {'c': {'d': {'e': 'f'}}}}}\n"
          ]
        }
      ],
      "source": [
        "my_list = ['a', 'b', 'c', 'd', 'e', 'f']\n",
        "\n",
        "summa = len(my_list) - 1\n",
        "\n",
        "my_dict = {}\n",
        "\n",
        "my_dict[my_list[summa - 1]] = my_list[summa]\n",
        "\n",
        "summa = summa - 1\n",
        "\n",
        "while summa > 0:\n",
        "    summa = summa - 1\n",
        "    my_dict2 = my_dict.copy()\n",
        "    my_dict.clear()\n",
        "    my_dict[my_list[summa]] = my_dict2\n",
        "    \n",
        "print(my_dict)"
      ]
    },
    {
      "cell_type": "code",
      "execution_count": null,
      "id": "455b503a",
      "metadata": {
        "id": "455b503a",
        "outputId": "6810ebfc-7bc0-46a9-8a91-cbb75d0b4cd8"
      },
      "outputs": [
        {
          "name": "stdout",
          "output_type": "stream",
          "text": [
            "Введите количество порций: \n",
            "5\n",
            "Сыр: 350 гр\n",
            "Томаты: 10 шт\n",
            "Огурцы: 100 гр\n",
            "Маслины: 50 гр\n",
            "Оливковое: 100 масло\n",
            "Салат: 50 гр\n",
            "Перец: 100 гр\n",
            "Колбаса: 150 гр\n",
            "Бекон: 150 гр\n",
            "Оливки: 50 гр\n",
            "Томаты: 100 гр\n",
            "Тесто: 500 гр\n",
            "Лимон: 5 шт\n",
            "Вода: 1000 мл\n",
            "Сахар: 50 гр\n",
            "Лайм: 100 гр\n"
          ]
        }
      ],
      "source": [
        "cook_book = {\n",
        "  'салат': [\n",
        "    {'ingridient_name': 'сыр', 'quantity': 50, 'measure': 'гр'},\n",
        "     {'ingridient_name': 'томаты', 'quantity': 2, 'measure': 'шт'},\n",
        "     {'ingridient_name': 'огурцы', 'quantity': 20, 'measure': 'гр'},\n",
        "     {'ingridient_name': 'маслины', 'quantity': 10, 'measure': 'гр'},\n",
        "     {'ingridient_name': 'оливковое масло', 'quantity': 20, 'measure': 'мл'},\n",
        "     {'ingridient_name': 'салат', 'quantity': 10, 'measure': 'гр'},\n",
        "     {'ingridient_name': 'перец', 'quantity': 20, 'measure': 'гр'}\n",
        "    ],\n",
        "  'пицца': [\n",
        "    {'ingridient_name': 'сыр', 'quantity': 20, 'measure': 'гр'},\n",
        "     {'ingridient_name': 'колбаса', 'quantity': 30, 'measure': 'гр'},\n",
        "     {'ingridient_name': 'бекон', 'quantity': 30, 'measure': 'гр'},\n",
        "     {'ingridient_name': 'оливки', 'quantity': 10, 'measure': 'гр'},\n",
        "     {'ingridient_name': 'томаты', 'quantity': 20, 'measure': 'гр'},\n",
        "     {'ingridient_name': 'тесто', 'quantity': 100, 'measure': 'гр'},   \n",
        "    ],\n",
        "  'лимонад': [\n",
        "     {'ingridient_name': 'лимон', 'quantity': 1, 'measure': 'шт'},\n",
        "     {'ingridient_name': 'вода', 'quantity': 200, 'measure': 'мл'},\n",
        "     {'ingridient_name': 'сахар', 'quantity': 10, 'measure': 'гр'},\n",
        "     {'ingridient_name': 'лайм', 'quantity': 20, 'measure': 'гр'},    \n",
        "    ]\n",
        "}\n",
        "\n",
        "person = int(input('Введите количество порций: \\n'))\n",
        "\n",
        "dict_book = {}\n",
        "\n",
        "for p in cook_book.items():\n",
        "    for ingr in p[1]:\n",
        "        ingr_measure = ingr['ingridient_name'] + ' ' + ingr['measure']\n",
        "        quantity = ingr['quantity']\n",
        "        if ingr_measure in dict_book:\n",
        "            dict_book[ingr_measure] += quantity * person\n",
        "        else: \n",
        "            dict_book.setdefault(ingr_measure, quantity * person)\n",
        "\n",
        "for t, values in dict_book.items():\n",
        "    name = t.split()\n",
        "    print(name[0].capitalize() + ':', values, name[1])\n"
      ]
    }
  ],
  "metadata": {
    "kernelspec": {
      "display_name": "Python 3 (ipykernel)",
      "language": "python",
      "name": "python3"
    },
    "language_info": {
      "codemirror_mode": {
        "name": "ipython",
        "version": 3
      },
      "file_extension": ".py",
      "mimetype": "text/x-python",
      "name": "python",
      "nbconvert_exporter": "python",
      "pygments_lexer": "ipython3",
      "version": "3.9.12"
    },
    "colab": {
      "provenance": []
    }
  },
  "nbformat": 4,
  "nbformat_minor": 5
}