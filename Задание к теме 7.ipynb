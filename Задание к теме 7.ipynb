{
 "cells": [
  {
   "cell_type": "code",
   "execution_count": 1,
   "id": "b4d126b7",
   "metadata": {},
   "outputs": [
    {
     "name": "stdout",
     "output_type": "stream",
     "text": [
      "Японских иен 86.698\n"
     ]
    }
   ],
   "source": [
    "import requests\n",
    "\n",
    "class Rate:\n",
    "    def __init__(self, format_='value'):\n",
    "        self.format = format_\n",
    "    \n",
    "    def exchange_rates(self):\n",
    "        r = requests.get('https://www.cbr-xml-daily.ru/daily_json.js')\n",
    "        return r.json()['Valute']\n",
    "    \n",
    "    def make_format(self, currency):\n",
    "   \n",
    "        response = self.exchange_rates()\n",
    "        \n",
    "        if currency in response:\n",
    "            if self.format == 'full':\n",
    "                return response[currency]\n",
    "            \n",
    "            if self.format == 'value':\n",
    "                return response[currency]['Value']\n",
    "        \n",
    "        return 'Error'\n",
    "    \n",
    "    def eur(self):\n",
    "        return self.make_format('EUR')\n",
    "    \n",
    "    def usd(self):\n",
    "        return self.make_format('USD')\n",
    "    \n",
    "    def brl(self):\n",
    "        return self.make_format('BRL')\n",
    "    \n",
    "    def max_cource(self):\n",
    "        response = self.exchange_rates()\n",
    "        max_course=0\n",
    "        for row in response.values():\n",
    "            value=row['Value']\n",
    "            if max_course<=value:\n",
    "                max_course=value\n",
    "                name=row['Name']\n",
    "        print(row['Name'], max_course)\n",
    "        \n",
    "Rate().max_cource()"
   ]
  },
  {
   "cell_type": "code",
   "execution_count": 3,
   "id": "e8eed430",
   "metadata": {},
   "outputs": [
    {
     "data": {
      "text/plain": [
       "62.5867"
      ]
     },
     "execution_count": 3,
     "metadata": {},
     "output_type": "execute_result"
    }
   ],
   "source": [
    "class Rate:\n",
    "    def __init__(self, format_='value', check='True'):\n",
    "        self.format = format_\n",
    "        self.check = check\n",
    "    \n",
    "    def exchange_rates(self):\n",
    "        r = requests.get('https://www.cbr-xml-daily.ru/daily_json.js')\n",
    "        return r.json()['Valute']\n",
    "    \n",
    "    def diff(self, check):\n",
    "        self.check=check\n",
    "    \n",
    "    def make_format(self, currency):\n",
    "        response = self.exchange_rates()\n",
    "        if currency in response:\n",
    "            if self.format == 'full':\n",
    "                return response[currency]\n",
    "            \n",
    "            if self.format == 'value':\n",
    "                if self.check=='True':\n",
    "                    difference=response[currency]['Previous']-response[currency]['Value']\n",
    "                    return difference\n",
    "                else:    \n",
    "                    return response[currency]['Value']\n",
    "        \n",
    "            return 'Error'\n",
    "    \n",
    "\n",
    "    def eur(self):\n",
    "        \"\"\"Возвращает курс евро на сегодня в формате self.format\"\"\"\n",
    "        return self.make_format('EUR')\n",
    "    \n",
    "    def usd(self):\n",
    "        return self.make_format('USD')\n",
    "    \n",
    "    def brl(self):\n",
    "        return self.make_format('BRL')\n",
    "\n",
    "Rate('value', 'False').eur()"
   ]
  },
  {
   "cell_type": "code",
   "execution_count": 6,
   "id": "1f216b39",
   "metadata": {},
   "outputs": [
    {
     "name": "stdout",
     "output_type": "stream",
     "text": [
      "Вика 1\n",
      "Вика 1\n",
      "Вика 2\n",
      "Вика 2\n",
      "Вика 2\n",
      "Вика 2\n",
      "Вика 2\n",
      "Вика 2\n",
      "Вика 2\n",
      "Вика 3\n",
      "Вика 3\n",
      "Вика 3\n",
      "Вика 3\n",
      "Вика 3\n",
      "Вика 3\n",
      "Вика 3\n",
      "Вика 4\n",
      "Вика 4\n",
      "Вика 4\n",
      "Вика 4\n"
     ]
    }
   ],
   "source": [
    "class Employee:\n",
    "    def __init__(self, name, seniority, awards):\n",
    "        self.name = name\n",
    "        self.seniority = seniority\n",
    "        self.awards= awards\n",
    "        \n",
    "        self.grade = 1\n",
    "    \n",
    "    def grade_up(self):\n",
    "        self.grade += 1\n",
    "    \n",
    "    def publish_grade(self):\n",
    "        print(self.name, self.grade)\n",
    "class Developer(Employee):\n",
    "    def __init__(self, name, seniority, awards=0):\n",
    "        super().__init__(name, seniority, awards=0)\n",
    "    \n",
    "    def check_if_it_is_time_for_upgrade(self):\n",
    "        self.seniority += 1\n",
    "    \n",
    "        if self.seniority % 5 == 0:\n",
    "            self.grade_up()\n",
    "        \n",
    "        return self.publish_grade()\n",
    "\n",
    "class Designer(Employee):\n",
    "    def __init__(self, name, seniority, awards):\n",
    "        super().__init__(name, seniority, awards)\n",
    "        \n",
    "    def check_if_it_is_time_for_upgrade(self):\n",
    "        if self.seniority==0: \n",
    "            self.seniority=1+self.awards*2\n",
    "        else:\n",
    "            self.seniority+=1\n",
    "        if self.seniority % 7==0:\n",
    "                self.grade_up()\n",
    "        \n",
    "        return self.publish_grade()\n",
    "    \n",
    "elena = Designer('Вика', seniority=0, awards=2)\n",
    "\n",
    "for i in range(20):\n",
    "    elena.check_if_it_is_time_for_upgrade()"
   ]
  }
 ],
 "metadata": {
  "kernelspec": {
   "display_name": "Python 3 (ipykernel)",
   "language": "python",
   "name": "python3"
  },
  "language_info": {
   "codemirror_mode": {
    "name": "ipython",
    "version": 3
   },
   "file_extension": ".py",
   "mimetype": "text/x-python",
   "name": "python",
   "nbconvert_exporter": "python",
   "pygments_lexer": "ipython3",
   "version": "3.9.12"
  }
 },
 "nbformat": 4,
 "nbformat_minor": 5
}
