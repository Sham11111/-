{
 "cells": [
  {
   "cell_type": "code",
   "execution_count": 6,
   "id": "88dc53b2",
   "metadata": {},
   "outputs": [
    {
     "name": "stdout",
     "output_type": "stream",
     "text": [
      "Введите год 2019\n",
      "Обычный год\n",
      "Конец программы\n"
     ]
    }
   ],
   "source": [
    "year = int(input('Введите год '))\n",
    "if year % 4 == 0:\n",
    "    print('Високосный год')\n",
    "else:\n",
    "    print('Обычный год')\n",
    "print('Конец программы')"
   ]
  },
  {
   "cell_type": "code",
   "execution_count": 14,
   "id": "8c7ab49e",
   "metadata": {},
   "outputs": [
    {
     "name": "stdout",
     "output_type": "stream",
     "text": [
      "Введите номер билета 123321\n",
      "Счастливый билет\n",
      "Конец программы\n"
     ]
    }
   ],
   "source": [
    "number = str(input('Введите номер билета '))\n",
    "if number[0] + number[1] + number[3] == number[-1] + number[-2] + number[-3]:\n",
    "    print('Счастливый билет')\n",
    "else:\n",
    "    print('Несчастливый билет')\n",
    "print('Конец программы')"
   ]
  }
 ],
 "metadata": {
  "kernelspec": {
   "display_name": "Python 3 (ipykernel)",
   "language": "python",
   "name": "python3"
  },
  "language_info": {
   "codemirror_mode": {
    "name": "ipython",
    "version": 3
   },
   "file_extension": ".py",
   "mimetype": "text/x-python",
   "name": "python",
   "nbconvert_exporter": "python",
   "pygments_lexer": "ipython3",
   "version": "3.9.12"
  }
 },
 "nbformat": 4,
 "nbformat_minor": 5
}
