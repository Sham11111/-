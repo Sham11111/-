{
 "cells": [
  {
   "cell_type": "code",
   "execution_count": 22,
   "id": "a7da0acd",
   "metadata": {},
   "outputs": [],
   "source": [
    "documents = [\n",
    " {'type': 'passport', 'number': '2207 876234', 'name': 'Василий Гупкин'},\n",
    " {'type': 'invoice', 'number': '11-2', 'name': 'Геннадий Покемонов'},\n",
    " {'type': 'insurance', 'number': '10006', 'name': 'Аристарх Павлов'}\n",
    "]\n",
    "\n",
    "directories = {\n",
    " '1': ['2207 876234', '11-2'],\n",
    " '2': ['10006'],\n",
    " '3': []\n",
    "}"
   ]
  },
  {
   "cell_type": "code",
   "execution_count": 27,
   "id": "24e51c6d",
   "metadata": {},
   "outputs": [],
   "source": [
    "def owner(doc_number):\n",
    "    \"\"\"\n",
    "    Функция по номеру документа выдает данные о его владельце\n",
    "    \"\"\"\n",
    "    owner_name = ''\n",
    "    for item in documents:\n",
    "        if item['number'] == doc_number:\n",
    "            owner_name = 'Владелец документа: ' + item['name']\n",
    "    if owner_name == '': \n",
    "        owner_name = 'Документ не найден в базе'\n",
    "    return owner_name"
   ]
  },
  {
   "cell_type": "code",
   "execution_count": 28,
   "id": "afd07faa",
   "metadata": {},
   "outputs": [],
   "source": [
    "def shelf(doc_number):\n",
    "    \"\"\"\n",
    "    Функция по номеру документа выдает данные о полке, на которой он хранится\n",
    "    \"\"\"\n",
    "    shelf_number = ''\n",
    "    for item, values in directories.items():\n",
    "        if doc_number in values:\n",
    "            shelf_number = 'Документ хранится на полке: ' + item\n",
    "    if shelf_number == '':\n",
    "        shelf_number = 'Документ не найден в базе'\n",
    "    return shelf_number"
   ]
  },
  {
   "cell_type": "code",
   "execution_count": 38,
   "id": "e2dd5096",
   "metadata": {},
   "outputs": [],
   "source": [
    "def main():\n",
    "    \"\"\"\n",
    "    Функция автоматизации работы секретаря\n",
    "    \"\"\"\n",
    "    a = 0\n",
    "    while a < 1:\n",
    "        command = input('Введите команду: \\n')\n",
    "        if command == 'p':\n",
    "            number_of_docs = input('Введите номер документа: \\n')\n",
    "            print(owner(number_of_docs))\n",
    "        elif command == 's':\n",
    "            number_of_docs = input('Введите номер документа: \\n')\n",
    "            print(shelf(number_of_docs))\n",
    "        elif command == 'q':\n",
    "            break\n",
    "        else:\n",
    "            print('Такой команды не существует')"
   ]
  },
  {
   "cell_type": "code",
   "execution_count": 39,
   "id": "46166987",
   "metadata": {},
   "outputs": [
    {
     "name": "stdout",
     "output_type": "stream",
     "text": [
      "Введите команду: \n",
      "p\n",
      "Введите номер документа: \n",
      "10006\n",
      "Владелец документа: Аристарх Павлов\n",
      "Введите команду: \n",
      "s\n",
      "Введите номер документа: \n",
      "10006\n",
      "Документ хранится на полке: 2\n",
      "Введите команду: \n",
      "q\n"
     ]
    }
   ],
   "source": [
    "main()"
   ]
  }
 ],
 "metadata": {
  "kernelspec": {
   "display_name": "Python 3 (ipykernel)",
   "language": "python",
   "name": "python3"
  },
  "language_info": {
   "codemirror_mode": {
    "name": "ipython",
    "version": 3
   },
   "file_extension": ".py",
   "mimetype": "text/x-python",
   "name": "python",
   "nbconvert_exporter": "python",
   "pygments_lexer": "ipython3",
   "version": "3.9.12"
  }
 },
 "nbformat": 4,
 "nbformat_minor": 5
}
